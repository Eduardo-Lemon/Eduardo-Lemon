{
  "cells": [
    {
      "cell_type": "markdown",
      "metadata": {
        "id": "view-in-github",
        "colab_type": "text"
      },
      "source": [
        "<a href=\"https://colab.research.google.com/github/Eduardo-Lemon/Eduardo-Lemon/blob/main/Ol%C3%A1%2C_este_%C3%A9_o_Colaboratory.ipynb\" target=\"_parent\"><img src=\"https://colab.research.google.com/assets/colab-badge.svg\" alt=\"Open In Colab\"/></a>"
      ]
    },
    {
      "cell_type": "code",
      "source": [
        "class Salario:\n",
        "  def __init__(self, base, bonus):\n",
        "    self.base = base\n",
        "    self.bonus = bonus\n",
        "  def salario_anual(self):\n",
        "    return (self.base*12)+self.bonus\n",
        "               \n",
        "class Empregado:\n",
        "  def __init__(self, nome, idade, salario):\n",
        "    self.nome = nome\n",
        "    self.idade = idade\n",
        "    self.salario_agregado = salario #agregação\n",
        "  def salario_total(self):\n",
        "    return self.salario_agregado.salario_anual()\n",
        "\n",
        "salario = Salario(10000, 700)\n",
        "emp = Empregado('Musashi', 46, salario)\n",
        "print(emp.salario_total())"
      ],
      "metadata": {
        "colab": {
          "base_uri": "https://localhost:8080/"
        },
        "id": "Gf2UM4t-MurR",
        "outputId": "132c38b3-5d23-44b3-8c00-2ee03a1861e6"
      },
      "execution_count": 2,
      "outputs": [
        {
          "output_type": "stream",
          "name": "stdout",
          "text": [
            "120700\n"
          ]
        }
      ]
    },
    {
      "cell_type": "code",
      "source": [
        "from datetime import date\n",
        "class Pessoa:\n",
        "  def __init__(self,nome, idade):\n",
        "    self.nome = nome\n",
        "    self.idade = idade\n",
        "\n",
        "  @classmethod\n",
        "  def apartirAnoNascimento(cls, nome, ano):\n",
        "    return cls(nome, date.today().year - ano)\n",
        "\n",
        "  @staticmethod\n",
        "  def ehMaiorIdade(idade):\n",
        "    return idade >= 18\n",
        "\n",
        "pessoa1 = Pessoa('maria', 26)\n",
        "pessoa2 = Pessoa.apartirAnoNascimento('elenice', 2006)\n",
        "print(pessoa1.idade)\n",
        "print(pessoa2.idade)\n",
        "print(Pessoa.ehMaiorIdade(19))\n"
      ],
      "metadata": {
        "colab": {
          "base_uri": "https://localhost:8080/"
        },
        "id": "YIZdIwcDPdAR",
        "outputId": "6318f4ab-cfca-4524-f591-dcdef7b3ceb0"
      },
      "execution_count": 8,
      "outputs": [
        {
          "output_type": "stream",
          "name": "stdout",
          "text": [
            "26\n",
            "17\n",
            "True\n"
          ]
        }
      ]
    },
    {
      "cell_type": "code",
      "source": [
        "class Conta:\n",
        "    pass\n",
        "\n",
        "class Conta:\n",
        "    def __init__(self, numero, cpf, nomeTitular, saldo):\n",
        "        self.numero = numero\n",
        "        self.cpf = cpf\n",
        "        self.nomeTitular = nomeTitular\n",
        "        self.saldo = saldo\n",
        "        \n",
        "    def depositar(self, valor):\n",
        "        self.saldo += valor\n",
        "        \n",
        "    def sacar(self, valor):\n",
        "        self.saldo -= valor\n",
        "        \n",
        "    def gerar_extrato(self):\n",
        "        print(f\"numero: {self.numero} \\n cpf: {self.cpf}\\nsaldo: {self.saldo}\")     \n",
        "\n",
        "def main():\n",
        "    c1 = Conta(1,1,\"Joao\",0)\n",
        "    c1.depositar(300)\n",
        "    c1.sacar(100)\n",
        "    c1.gerar_extrato()\n",
        "\n",
        "if __name__ == \"__main__\": \n",
        "    main()"
      ],
      "metadata": {
        "colab": {
          "base_uri": "https://localhost:8080/"
        },
        "id": "K-tQvCKlUO_r",
        "outputId": "6165e4b6-67e1-456c-eaf8-2c477d8d96a1"
      },
      "execution_count": 12,
      "outputs": [
        {
          "output_type": "stream",
          "name": "stdout",
          "text": [
            "numero: 1 \n",
            " cpf: 1\n",
            "saldo: 200\n"
          ]
        }
      ]
    },
    {
      "cell_type": "code",
      "source": [
        "class ContaBancaria:\n",
        "  num_contas = 0\n",
        "  def __init__(self,clientes,numero,saldo):\n",
        "    self.agencia = agencia\n",
        "    self.numero = numero\n",
        "    self.saldo = saldo\n",
        "    ContaBancaria.num_contas += 1\n",
        "  def _del_(self):\n",
        "    ContaBancaria.num_contas -= 1\n",
        "  def depositar(self,valor):\n",
        "    self.saldo = self.valor + valor\n",
        "  def sacar(self, valor):\n",
        "    self.saldo = self.valor - valor\n",
        "  def consultarSaldo(Self):\n",
        "    return self.saldo"
      ],
      "metadata": {
        "id": "gpkn4O8kn1hG"
      },
      "execution_count": 17,
      "outputs": []
    }
  ],
  "metadata": {
    "colab": {
      "name": "Olá, este é o Colaboratory",
      "toc_visible": true,
      "provenance": [],
      "include_colab_link": true
    },
    "kernelspec": {
      "display_name": "Python 3",
      "name": "python3"
    }
  },
  "nbformat": 4,
  "nbformat_minor": 0
}