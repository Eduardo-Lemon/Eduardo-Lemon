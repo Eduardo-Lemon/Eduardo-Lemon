{
  "cells": [
    {
      "cell_type": "markdown",
      "metadata": {
        "id": "view-in-github",
        "colab_type": "text"
      },
      "source": [
        "<a href=\"https://colab.research.google.com/github/Eduardo-Lemon/Eduardo-Lemon/blob/main/tema%204%20exemplos%20de%20orientacao%20a%20objetos.ipynb\" target=\"_parent\"><img src=\"https://colab.research.google.com/assets/colab-badge.svg\" alt=\"Open In Colab\"/></a>"
      ]
    },
    {
      "cell_type": "code",
      "source": [
        "\n",
        "# herança\n",
        "\n",
        "class ClasseSomaMultiplica:\n",
        "  def __init__(self,a, b):\n",
        "    self.a = a\n",
        "    self.b = b\n",
        "  def somar(self):\n",
        "    return self.a+self.b;\n",
        "  def multiplica(self):\n",
        "    return self.a*self.b;\n",
        "\n",
        "class Derivada(ClasseSomaMultiplica):\n",
        "  def subtrair(self):\n",
        "    return self.a-self.b;\n",
        "  def dividir(self):\n",
        "    return self.a/self.b;\n",
        "\n",
        "d = Derivada(10,20)\n",
        "print(f'A soma de 10 mais 20 é: {d.somar()}')\n",
        "print(issubclass(Derivada, ClasseSomaMultiplica))"
      ],
      "metadata": {
        "colab": {
          "base_uri": "https://localhost:8080/"
        },
        "id": "9co-qv-6hqIQ",
        "outputId": "a5739c72-e0d2-4b65-be72-5f333bb3159a"
      },
      "execution_count": 5,
      "outputs": [
        {
          "output_type": "stream",
          "name": "stdout",
          "text": [
            "A soma de 10 mais 20 é: 30\n",
            "True\n"
          ]
        }
      ]
    },
    {
      "cell_type": "code",
      "source": [
        "# sobrecarga\n",
        "\n",
        "def somar(x, y, z = 0):\n",
        "  return x+y+z\n",
        "\n",
        "print(somar(20,30))\n",
        "print(somar(20,30, 50))\n",
        "\n",
        "\n"
      ],
      "metadata": {
        "colab": {
          "base_uri": "https://localhost:8080/"
        },
        "id": "HKi8-Y5xjdfP",
        "outputId": "738421b2-72ec-46bf-953b-0da8677d431e"
      },
      "execution_count": 6,
      "outputs": [
        {
          "output_type": "stream",
          "name": "stdout",
          "text": [
            "50\n",
            "100\n"
          ]
        }
      ]
    },
    {
      "cell_type": "code",
      "source": [
        "#polimorfismo (programação orientada a objetos)\n",
        "\n",
        "class Argentina():\n",
        "  def capital(self):\n",
        "    print(\"Buenos Aires é a capital da Argentina.\")\n",
        "  def lingua_oficial(self):\n",
        "    print(\"O espanhol é a língua oficial da Argentina.\")\n",
        "\n",
        "class Brasil():\n",
        "  def capital(self):\n",
        "    print(\"Brasília é a capital do Brasil.\")\n",
        "  def lingua_oficial(self):\n",
        "    print(\"O português é a língua oficial do Brasil.\")\n",
        "\n",
        "obj_arg = Argentina()\n",
        "obj_bra = Brasil()\n",
        "for pais in (obj_arg, obj_bra):\n",
        "  pais.capital()\n",
        "  pais.lingua_oficial()\n",
        "\n",
        "\n"
      ],
      "metadata": {
        "colab": {
          "base_uri": "https://localhost:8080/"
        },
        "id": "XTdjc2Snjz9p",
        "outputId": "8d2a451e-f037-40aa-d054-6354fc917a6b"
      },
      "execution_count": 8,
      "outputs": [
        {
          "output_type": "stream",
          "name": "stdout",
          "text": [
            "Buenos Aires é a capital da Argentina.\n",
            "O espanhol é a língua oficial da Argentina.\n",
            "Brasília é a capital do Brasil.\n",
            "O português é a língua oficial do Brasil.\n"
          ]
        }
      ]
    },
    {
      "cell_type": "code",
      "source": [
        "# EXEMPLO DE AULA TEMA 4\n",
        "\n",
        "from ContasClientesExtrato import Conta\n",
        "import datetime\n",
        "\n",
        "class ContaEspecial(Conta):\n",
        "  def __init__(self,clientes,numero,saldo,limite):\n",
        "    Conta.__init__(self,clientes,numero,saldo)\n",
        "    self.limite = limite\n",
        "\n",
        "  def sacar(self, valor):\n",
        "    if (self.saldo + self.limite) < valor:\n",
        "      return False\n",
        "    else:\n",
        "      self.saldo -= valor\n",
        "      self.extrato.transacoes.append([\"SAQUE\", valor \"Data\", datetime.datetime.today()])\n",
        "      return True"
      ],
      "metadata": {
        "colab": {
          "base_uri": "https://localhost:8080/",
          "height": 130
        },
        "id": "Afyrj0EbnTWk",
        "outputId": "192feb6c-18ba-402c-94de-15a1d6a2ce3e"
      },
      "execution_count": 10,
      "outputs": [
        {
          "output_type": "error",
          "ename": "SyntaxError",
          "evalue": "ignored",
          "traceback": [
            "\u001b[0;36m  File \u001b[0;32m\"<ipython-input-10-99568449de30>\"\u001b[0;36m, line \u001b[0;32m14\u001b[0m\n\u001b[0;31m    self.extrato.transacoes.append([\"SAQUE\", valor \"Data\", datetime.datetime.today()])\u001b[0m\n\u001b[0m                                                   ^\u001b[0m\n\u001b[0;31mSyntaxError\u001b[0m\u001b[0;31m:\u001b[0m invalid syntax\n"
          ]
        }
      ]
    },
    {
      "cell_type": "code",
      "source": [
        "\n",
        "#Exemplo de polimofismo, implementando classes\n",
        "\n",
        "import datetime\n",
        "class ContaPoupanca:\n",
        "  def __init__(self,taxaremuneracao):\n",
        "    self.taxaremuneracao = taxaremuneracao\n",
        "    self.data_abertura = datetime.datetime.today()\n",
        "  def remuneracaoConta(self):\n",
        "    self.saldo +=self.saldo * self.taxaremuneracao\n",
        "\n",
        "class ContaCliente:\n",
        "\n",
        "  def __init__(self, numero, IOF,IR,valorinvestido,taxarendimento):\n",
        "    self.numero = numero\n",
        "    self.IOF = IOF\n",
        "    self.IR = IR\n",
        "    self.valorinvestido = valorinvestido\n",
        "    self.taxarendimento = taxarendimento\n",
        "\n",
        "  def CalculoRendimento(self):\n",
        "    self.valorinvestido += (self.valorinvestido * self.taxarendimento)\n",
        "    self.valorinvestido = (self.valorinvestido - (self.taxarendimento * self.IOF* self.IR))\n",
        "\n",
        "  def Extrato(Self): #(1)\n",
        "    print (f\"O saldo atual da conta {self.numero} é {self.valorinvestido:10.2f}\")\n",
        "\n",
        "#------------------\n",
        "from ContaCliente import ContaCliente\n",
        "class ContaComum(ContaCliente):\n",
        "  def __init__(self,numero,IOF,IR,valorinvestido,taxarendimento):\n",
        "    super().__init__(numeroIOFIR,valorinvestido,taxarendimento)\n",
        "\n",
        "  def CalculoRendimento(Self): #(2)\n",
        "    sef.valorinvestido += (self.valorinvestido * self.taxarendimento)\n",
        "\n",
        "\n",
        "#------------------\n",
        "\n",
        "from ContaCliente import ContaCliente\n",
        "class ContaRemunerada(ContaCliente):\n",
        "  def __init__ (self,numero,IOF,IR,valorinvestido,taxarendimento):\n",
        "    super().__init__ (numeroIOFIR,valorinvestido,taxarendimento)\n",
        "\n",
        "  def CalculoRendimento(Self): #(3)\n",
        "    sef.valorinvestido += (self.valorinvestido * self.taxarendimento)\n",
        "    sef.valorinvestido -= self.valorinvestido * self.IOF\n",
        "\n",
        "#------------------\n",
        "\n",
        "class Banco():\n",
        "  def __init__(self, codigo, nome):\n",
        "    self.codigo = codigo\n",
        "    self.nome = nome\n",
        "    self.contas = []\n",
        "\n",
        "  def adicionaconta(self,contacliente):\n",
        "    self.contas.append(contacliente)\n",
        "\n",
        "  def calcularendimentomensal(self): #(7)\n",
        "    for c in self.contas:\n",
        "      c.CalculoRendimento()\n",
        "\n",
        "  def imprimesaldocontas(self):\n",
        "    for c in self.contas:\n",
        "\n",
        "      banco1 = Banco(999,\"teste\")\n",
        "      contacliente1 = ContaCliente (1,0.01,0.1,1000,0.05)\n",
        "      contacomum1 = ContaComum(2,0.01,0.1,2000,0.05)\n",
        "      contaremunerada1 = ContaRemunerada(3,0.01,0.1,2000,0.05)\n",
        "\n",
        "banco1.adicionaconta(contacliente1) #(4)\n",
        "banco1.adicionaconta(contacomum1) #(5)\n",
        "banco1.adicionaconta(contaremunerada1) #(6)\n",
        "banco1.calcularendimentomensal#(7)\n",
        "banco1.imprimesaldocontas() #(8)\n",
        "\n",
        "\n",
        "\n",
        "\n",
        "\n"
      ],
      "metadata": {
        "colab": {
          "base_uri": "https://localhost:8080/",
          "height": 373
        },
        "id": "JmFk82ZfphfE",
        "outputId": "6ac36f17-4ea2-4872-935b-c29eb35014d2"
      },
      "execution_count": 30,
      "outputs": [
        {
          "output_type": "error",
          "ename": "ModuleNotFoundError",
          "evalue": "ignored",
          "traceback": [
            "\u001b[0;31m---------------------------------------------------------------------------\u001b[0m",
            "\u001b[0;31mModuleNotFoundError\u001b[0m                       Traceback (most recent call last)",
            "\u001b[0;32m<ipython-input-30-f288bb406ddb>\u001b[0m in \u001b[0;36m<cell line: 28>\u001b[0;34m()\u001b[0m\n\u001b[1;32m     26\u001b[0m \u001b[0;34m\u001b[0m\u001b[0m\n\u001b[1;32m     27\u001b[0m \u001b[0;31m#------------------\u001b[0m\u001b[0;34m\u001b[0m\u001b[0;34m\u001b[0m\u001b[0m\n\u001b[0;32m---> 28\u001b[0;31m \u001b[0;32mfrom\u001b[0m \u001b[0mContaCliente\u001b[0m \u001b[0;32mimport\u001b[0m \u001b[0mContaCliente\u001b[0m\u001b[0;34m\u001b[0m\u001b[0;34m\u001b[0m\u001b[0m\n\u001b[0m\u001b[1;32m     29\u001b[0m \u001b[0;32mclass\u001b[0m \u001b[0mContaComum\u001b[0m\u001b[0;34m(\u001b[0m\u001b[0mContaCliente\u001b[0m\u001b[0;34m)\u001b[0m\u001b[0;34m:\u001b[0m\u001b[0;34m\u001b[0m\u001b[0;34m\u001b[0m\u001b[0m\n\u001b[1;32m     30\u001b[0m   \u001b[0;32mdef\u001b[0m \u001b[0m__init__\u001b[0m\u001b[0;34m(\u001b[0m\u001b[0mself\u001b[0m\u001b[0;34m,\u001b[0m\u001b[0mnumero\u001b[0m\u001b[0;34m,\u001b[0m\u001b[0mIOF\u001b[0m\u001b[0;34m,\u001b[0m\u001b[0mIR\u001b[0m\u001b[0;34m,\u001b[0m\u001b[0mvalorinvestido\u001b[0m\u001b[0;34m,\u001b[0m\u001b[0mtaxarendimento\u001b[0m\u001b[0;34m)\u001b[0m\u001b[0;34m:\u001b[0m\u001b[0;34m\u001b[0m\u001b[0;34m\u001b[0m\u001b[0m\n",
            "\u001b[0;31mModuleNotFoundError\u001b[0m: No module named 'ContaCliente'",
            "",
            "\u001b[0;31m---------------------------------------------------------------------------\u001b[0;32m\nNOTE: If your import is failing due to a missing package, you can\nmanually install dependencies using either !pip or !apt.\n\nTo view examples of installing some common dependencies, click the\n\"Open Examples\" button below.\n\u001b[0;31m---------------------------------------------------------------------------\u001b[0m\n"
          ],
          "errorDetails": {
            "actions": [
              {
                "action": "open_url",
                "actionText": "Open Examples",
                "url": "/notebooks/snippets/importing_libraries.ipynb"
              }
            ]
          }
        }
      ]
    }
  ],
  "metadata": {
    "colab": {
      "name": "Olá, este é o Colaboratory",
      "toc_visible": true,
      "provenance": [],
      "include_colab_link": true
    },
    "kernelspec": {
      "display_name": "Python 3",
      "name": "python3"
    }
  },
  "nbformat": 4,
  "nbformat_minor": 0
}